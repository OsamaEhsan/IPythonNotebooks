{
 "cells": [
  {
   "cell_type": "code",
   "execution_count": 1,
   "metadata": {
    "collapsed": true
   },
   "outputs": [],
   "source": [
    "S0 = 100.\n",
    "r = 0.04\n",
    "sigma = 0.02"
   ]
  },
  {
   "cell_type": "code",
   "execution_count": 2,
   "metadata": {
    "collapsed": true
   },
   "outputs": [],
   "source": [
    "import numpy as np"
   ]
  },
  {
   "cell_type": "code",
   "execution_count": 10,
   "metadata": {
    "collapsed": true
   },
   "outputs": [],
   "source": [
    "from matplotlib import pyplot as plt\n",
    "%matplotlib inline"
   ]
  },
  {
   "cell_type": "code",
   "execution_count": 3,
   "metadata": {
    "collapsed": true
   },
   "outputs": [],
   "source": [
    "# analytical formula for stock price\n",
    "stockprice = lambda S0, r, sigma, t, z: S0*np.exp((r-0.5*sigma*sigma)*t+sigma*z*np.sqrt(t))"
   ]
  },
  {
   "cell_type": "code",
   "execution_count": 13,
   "metadata": {
    "collapsed": false
   },
   "outputs": [
    {
     "data": {
      "text/plain": [
       "array([100.        , 101.84358273, 100.80369057, 101.70122942,\n",
       "       100.64846783, 102.58575251, 101.64776535, 100.77723517,\n",
       "       104.28893938, 104.19440071, 101.77119129, 105.00161559,\n",
       "       103.81926331, 102.75847112, 102.00751093, 105.99604844,\n",
       "       108.89875419, 106.91652885, 110.07461395, 104.21258176,\n",
       "       109.85239515, 110.05350554, 107.38347791, 111.00746473,\n",
       "       108.17484009, 107.39741999, 102.85053929, 113.73675532,\n",
       "       114.04604934, 109.57015772, 110.7983589 , 110.3106263 ,\n",
       "       115.22643104, 111.69540279, 119.67763631, 119.05864808,\n",
       "       117.44693271, 120.03819462, 117.72715   , 112.95573715,\n",
       "       118.31549938, 119.75957785, 114.64931354, 116.47587568,\n",
       "       112.96847147, 116.46795877, 117.92924468, 117.66275359,\n",
       "       120.12751107, 121.40035003, 117.17111795, 116.44965808,\n",
       "       114.93458514, 123.15325747, 132.78527106, 128.88314945,\n",
       "       133.96073336, 129.71734575, 122.47090571, 121.37155484,\n",
       "       131.09055366, 130.74486154, 127.46601646, 118.57928809,\n",
       "       141.40740963, 126.05179657, 139.13591938, 131.23488451,\n",
       "       121.46784108, 133.22279008, 133.21069512, 126.38562732,\n",
       "       131.47247613, 128.58696428, 129.63880785, 127.30353464,\n",
       "       139.52161985, 127.15867292, 131.86169461, 144.8591305 ,\n",
       "       142.84301338, 151.01259295, 141.45121966, 138.24919877,\n",
       "       143.88801589, 138.17731632, 149.14209913, 144.01456858,\n",
       "       131.25530086, 142.02797998, 144.14950161, 141.16306315,\n",
       "       147.40083856, 138.47823278, 141.9437296 , 135.47349105,\n",
       "       141.11487531, 149.7848118 , 151.60939354, 142.29236891])"
      ]
     },
     "execution_count": 13,
     "metadata": {},
     "output_type": "execute_result"
    }
   ],
   "source": [
    "tarray = np.arange(100)/10.\n",
    "zarray = np.random.normal(size=100)\n",
    "sarray = stockprice(S0, r, sigma, tarray, zarray)\n",
    "\n",
    "stockprice(S0, r, sigma, tarray, zarray) "
   ]
  },
  {
   "cell_type": "code",
   "execution_count": 14,
   "metadata": {
    "collapsed": false
   },
   "outputs": [
    {
     "data": {
      "text/plain": [
       "[<matplotlib.lines.Line2D at 0x105f5a490>]"
      ]
     },
     "execution_count": 14,
     "metadata": {},
     "output_type": "execute_result"
    },
    {
     "data": {
      "image/png": "[encoded data removed]",
      "text/plain": [
       "<matplotlib.figure.Figure at 0x1078ad990>"
      ]
     },
     "metadata": {},
     "output_type": "display_data"
    }
   ],
   "source": [
    "plt.plot(tarray, sarray)"
   ]
  },
  {
   "cell_type": "code",
   "execution_count": 16,
   "metadata": {
    "collapsed": false
   },
   "outputs": [],
   "source": [
    "from pymc3 import Model, Normal, HalfNormal\n",
    "\n",
    "stockprice_model = Model()\n",
    "\n",
    "with stockprice_model:\n",
    "    rnd_S0 = Normal('rnd_S0', mu=100, sd=10)\n",
    "    rnd_r = HalfNormal('rnd_r', sd=2)\n",
    "    rnd_sigma = HalfNormal('rnd_sigma', sd=2)\n",
    "    \n",
    "    # formula\n",
    "    mu_observed_S = stockprice(rnd_S0, rnd_r, rnd_sigma, tarray, 0)\n",
    "    \n",
    "    # model\n",
    "    observed_S = Normal('observed_S', mu=mu_observed_S, sd=rnd_sigma, observed=sarray)"
   ]
  },
  {
   "cell_type": "code",
   "execution_count": 17,
   "metadata": {
    "collapsed": false
   },
   "outputs": [
    {
     "name": "stderr",
     "output_type": "stream",
     "text": [
      "/Users/stephenhky/anaconda/lib/python2.7/site-packages/pymc3/tuning/starting.py:61: UserWarning: find_MAP should not be used to initialize the NUTS sampler, simply call pymc3.sample() and it will automatically initialize NUTS in a better way.\n",
      "  warnings.warn('find_MAP should not be used to initialize the NUTS sampler, simply call pymc3.sample() and it will automatically initialize NUTS in a better way.')\n",
      "/Users/stephenhky/anaconda/lib/python2.7/site-packages/pymc3/tuning/starting.py:102: UserWarning: In future versions, set the optimization algorithm with a string. For example, use `method=\"L-BFGS-B\"` instead of `fmin=sp.optimize.fmin_l_bfgs_b\"`.\n",
      "  warnings.warn('In future versions, set the optimization algorithm with a string. '\n",
      "logp = -inf:   2%|▏         | 110/5000 [00:00<00:02, 2164.07it/s]   "
     ]
    },
    {
     "name": "stdout",
     "output_type": "stream",
     "text": [
      "Optimization terminated successfully.\n",
      "         Current function value: -10000000000000000159028911097599180468360808563945281389781327557747838772170381060813469985856815104.000000\n",
      "         Iterations: 2\n",
      "         Function evaluations: 111\n"
     ]
    },
    {
     "name": "stderr",
     "output_type": "stream",
     "text": [
      "logp = -inf:   2%|▏         | 111/5000 [00:00<00:31, 155.57it/s] \n"
     ]
    },
    {
     "ename": "PositiveDefiniteError",
     "evalue": "Scaling is not positive definite: Simple check failed. Diagonal contains negatives. Check indexes [0].",
     "output_type": "error",
     "traceback": [
      "\u001b[0;31m---------------------------------------------------------------------------\u001b[0m",
      "\u001b[0;31mPositiveDefiniteError\u001b[0m                     Traceback (most recent call last)",
      "\u001b[0;32m<ipython-input-17-8658d39fed9c>\u001b[0m in \u001b[0;36m<module>\u001b[0;34m()\u001b[0m\n\u001b[1;32m      4\u001b[0m \u001b[0;32mwith\u001b[0m \u001b[0mstockprice_model\u001b[0m\u001b[0;34m:\u001b[0m\u001b[0;34m\u001b[0m\u001b[0m\n\u001b[1;32m      5\u001b[0m     \u001b[0mstart\u001b[0m \u001b[0;34m=\u001b[0m \u001b[0mfind_MAP\u001b[0m\u001b[0;34m(\u001b[0m\u001b[0mfmin\u001b[0m\u001b[0;34m=\u001b[0m\u001b[0mfmin_powell\u001b[0m\u001b[0;34m)\u001b[0m\u001b[0;34m\u001b[0m\u001b[0m\n\u001b[0;32m----> 6\u001b[0;31m     \u001b[0mstep\u001b[0m \u001b[0;34m=\u001b[0m \u001b[0mNUTS\u001b[0m\u001b[0;34m(\u001b[0m\u001b[0mscaling\u001b[0m\u001b[0;34m=\u001b[0m\u001b[0mstart\u001b[0m\u001b[0;34m)\u001b[0m\u001b[0;34m\u001b[0m\u001b[0m\n\u001b[0m\u001b[1;32m      7\u001b[0m     \u001b[0mtrace\u001b[0m \u001b[0;34m=\u001b[0m \u001b[0msample\u001b[0m\u001b[0;34m(\u001b[0m\u001b[0;36m2000\u001b[0m\u001b[0;34m,\u001b[0m \u001b[0mstep\u001b[0m\u001b[0;34m,\u001b[0m \u001b[0mstart\u001b[0m\u001b[0;34m=\u001b[0m\u001b[0mstart\u001b[0m\u001b[0;34m)\u001b[0m\u001b[0;34m\u001b[0m\u001b[0m\n",
      "\u001b[0;32m/Users/stephenhky/anaconda/lib/python2.7/site-packages/pymc3/step_methods/hmc/nuts.pyc\u001b[0m in \u001b[0;36m__init__\u001b[0;34m(self, vars, max_treedepth, early_max_treedepth, **kwargs)\u001b[0m\n\u001b[1;32m    152\u001b[0m         \u001b[0;34m`\u001b[0m\u001b[0mpm\u001b[0m\u001b[0;34m.\u001b[0m\u001b[0msample\u001b[0m\u001b[0;34m`\u001b[0m \u001b[0mto\u001b[0m \u001b[0mthe\u001b[0m \u001b[0mdesired\u001b[0m \u001b[0mnumber\u001b[0m \u001b[0mof\u001b[0m \u001b[0mtuning\u001b[0m \u001b[0msteps\u001b[0m\u001b[0;34m.\u001b[0m\u001b[0;34m\u001b[0m\u001b[0m\n\u001b[1;32m    153\u001b[0m         \"\"\"\n\u001b[0;32m--> 154\u001b[0;31m         \u001b[0msuper\u001b[0m\u001b[0;34m(\u001b[0m\u001b[0mNUTS\u001b[0m\u001b[0;34m,\u001b[0m \u001b[0mself\u001b[0m\u001b[0;34m)\u001b[0m\u001b[0;34m.\u001b[0m\u001b[0m__init__\u001b[0m\u001b[0;34m(\u001b[0m\u001b[0mvars\u001b[0m\u001b[0;34m,\u001b[0m \u001b[0;34m**\u001b[0m\u001b[0mkwargs\u001b[0m\u001b[0;34m)\u001b[0m\u001b[0;34m\u001b[0m\u001b[0m\n\u001b[0m\u001b[1;32m    155\u001b[0m \u001b[0;34m\u001b[0m\u001b[0m\n\u001b[1;32m    156\u001b[0m         \u001b[0mself\u001b[0m\u001b[0;34m.\u001b[0m\u001b[0mmax_treedepth\u001b[0m \u001b[0;34m=\u001b[0m \u001b[0mmax_treedepth\u001b[0m\u001b[0;34m\u001b[0m\u001b[0m\n",
      "\u001b[0;32m/Users/stephenhky/anaconda/lib/python2.7/site-packages/pymc3/step_methods/hmc/base_hmc.pyc\u001b[0m in \u001b[0;36m__init__\u001b[0;34m(self, vars, scaling, step_scale, is_cov, model, blocked, potential, integrator, dtype, Emax, target_accept, gamma, k, t0, adapt_step_size, step_rand, **theano_kwargs)\u001b[0m\n\u001b[1;32m    104\u001b[0m             \u001b[0mself\u001b[0m\u001b[0;34m.\u001b[0m\u001b[0mpotential\u001b[0m \u001b[0;34m=\u001b[0m \u001b[0mpotential\u001b[0m\u001b[0;34m\u001b[0m\u001b[0m\n\u001b[1;32m    105\u001b[0m         \u001b[0;32melse\u001b[0m\u001b[0;34m:\u001b[0m\u001b[0;34m\u001b[0m\u001b[0m\n\u001b[0;32m--> 106\u001b[0;31m             \u001b[0mself\u001b[0m\u001b[0;34m.\u001b[0m\u001b[0mpotential\u001b[0m \u001b[0;34m=\u001b[0m \u001b[0mquad_potential\u001b[0m\u001b[0;34m(\u001b[0m\u001b[0mscaling\u001b[0m\u001b[0;34m,\u001b[0m \u001b[0mis_cov\u001b[0m\u001b[0;34m)\u001b[0m\u001b[0;34m\u001b[0m\u001b[0m\n\u001b[0m\u001b[1;32m    107\u001b[0m \u001b[0;34m\u001b[0m\u001b[0m\n\u001b[1;32m    108\u001b[0m         self.integrator = integration.CpuLeapfrogIntegrator(\n",
      "\u001b[0;32m/Users/stephenhky/anaconda/lib/python2.7/site-packages/pymc3/step_methods/hmc/quadpotential.pyc\u001b[0m in \u001b[0;36mquad_potential\u001b[0;34m(C, is_cov)\u001b[0m\n\u001b[1;32m     36\u001b[0m             \u001b[0;32mraise\u001b[0m \u001b[0mValueError\u001b[0m\u001b[0;34m(\u001b[0m\u001b[0;34m\"Sparse precision matrices are not supported\"\u001b[0m\u001b[0;34m)\u001b[0m\u001b[0;34m\u001b[0m\u001b[0m\n\u001b[1;32m     37\u001b[0m \u001b[0;34m\u001b[0m\u001b[0m\n\u001b[0;32m---> 38\u001b[0;31m     \u001b[0mpartial_check_positive_definite\u001b[0m\u001b[0;34m(\u001b[0m\u001b[0mC\u001b[0m\u001b[0;34m)\u001b[0m\u001b[0;34m\u001b[0m\u001b[0m\n\u001b[0m\u001b[1;32m     39\u001b[0m     \u001b[0;32mif\u001b[0m \u001b[0mC\u001b[0m\u001b[0;34m.\u001b[0m\u001b[0mndim\u001b[0m \u001b[0;34m==\u001b[0m \u001b[0;36m1\u001b[0m\u001b[0;34m:\u001b[0m\u001b[0;34m\u001b[0m\u001b[0m\n\u001b[1;32m     40\u001b[0m         \u001b[0;32mif\u001b[0m \u001b[0mis_cov\u001b[0m\u001b[0;34m:\u001b[0m\u001b[0;34m\u001b[0m\u001b[0m\n",
      "\u001b[0;32m/Users/stephenhky/anaconda/lib/python2.7/site-packages/pymc3/step_methods/hmc/quadpotential.pyc\u001b[0m in \u001b[0;36mpartial_check_positive_definite\u001b[0;34m(C)\u001b[0m\n\u001b[1;32m     59\u001b[0m     \u001b[0;32mif\u001b[0m \u001b[0mlen\u001b[0m\u001b[0;34m(\u001b[0m\u001b[0mi\u001b[0m\u001b[0;34m)\u001b[0m\u001b[0;34m:\u001b[0m\u001b[0;34m\u001b[0m\u001b[0m\n\u001b[1;32m     60\u001b[0m         raise PositiveDefiniteError(\n\u001b[0;32m---> 61\u001b[0;31m             \"Simple check failed. Diagonal contains negatives\", i)\n\u001b[0m\u001b[1;32m     62\u001b[0m \u001b[0;34m\u001b[0m\u001b[0m\n\u001b[1;32m     63\u001b[0m \u001b[0;34m\u001b[0m\u001b[0m\n",
      "\u001b[0;31mPositiveDefiniteError\u001b[0m: Scaling is not positive definite: Simple check failed. Diagonal contains negatives. Check indexes [0]."
     ]
    }
   ],
   "source": [
    "from pymc3 import NUTS, sample, find_MAP\n",
    "from scipy.optimize import fmin_powell\n",
    "\n",
    "with stockprice_model:\n",
    "    start = find_MAP(fmin=fmin_powell)\n",
    "    step = NUTS(scaling=start)\n",
    "    trace = sample(2000, step, start=start)"
   ]
  },
  {
   "cell_type": "code",
   "execution_count": null,
   "metadata": {
    "collapsed": true
   },
   "outputs": [],
   "source": []
  }
 ],
 "metadata": {
  "kernelspec": {
   "display_name": "Python 2",
   "language": "python",
   "name": "python2"
  },
  "language_info": {
   "codemirror_mode": {
    "name": "ipython",
    "version": 2
   },
   "file_extension": ".py",
   "mimetype": "text/x-python",
   "name": "python",
   "nbconvert_exporter": "python",
   "pygments_lexer": "ipython2",
   "version": "2.7.13"
  }
 },
 "nbformat": 4,
 "nbformat_minor": 2
}
