{
 "cells": [
  {
   "cell_type": "code",
   "execution_count": 1,
   "metadata": {
    "collapsed": false
   },
   "outputs": [
    {
     "name": "stderr",
     "output_type": "stream",
     "text": [
      "/Users/stephenhky/anaconda/lib/python2.7/site-packages/h5py/__init__.py:34: FutureWarning: Conversion of the second argument of issubdtype from `float` to `np.floating` is deprecated. In future, it will be treated as `np.float64 == np.dtype(float).type`.\n",
      "  from ._conv import register_converters as _register_converters\n"
     ]
    }
   ],
   "source": [
    "import numpy as np\n",
    "import pymc3"
   ]
  },
  {
   "cell_type": "code",
   "execution_count": null,
   "metadata": {
    "collapsed": true
   },
   "outputs": [],
   "source": [
    "# radioactive element\n",
    "# parameter\n",
    "nbatoms = 10000\n",
    "tau = 234.\n",
    "atomstates = np.array([1]*nbatoms, dtype=np.int32)   # 1: original; 2: decayed\n",
    "\n",
    "T = 1000\n",
    "N = [np.sum(atomstates)]*T\n",
    "tseries = np.arange(T)\n",
    "for t in range(1, T):\n",
    "    for i in range(nbatoms):\n",
    "        if atomstates[i] == 1:\n",
    "            if np.random.uniform() < 1/tau:\n",
    "                atomstates[i] = 0\n",
    "    N[t] = np.sum(atomstates)            "
   ]
  },
  {
   "cell_type": "code",
   "execution_count": 15,
   "metadata": {
    "collapsed": false
   },
   "outputs": [],
   "source": [
    "from pymc3 import Model, Normal, Exponential\n",
    "\n",
    "# Defining the model\n",
    "radioactive_model = Model()\n",
    "\n",
    "with radioactive_model:\n",
    "    lamb = Normal('lamb', mu=0.01, sd=0.001)\n",
    "    pred_N = Exponential('N', -lamb, observed=N)"
   ]
  },
  {
   "cell_type": "code",
   "execution_count": 17,
   "metadata": {
    "collapsed": false
   },
   "outputs": [
    {
     "name": "stderr",
     "output_type": "stream",
     "text": [
      "logp = -inf, ||grad|| = 0: 100%|██████████| 2/2 [00:00<00:00, 326.27it/s]"
     ]
    },
    {
     "name": "stdout",
     "output_type": "stream",
     "text": [
      "{'lamb': array(0.01)}\n"
     ]
    },
    {
     "name": "stderr",
     "output_type": "stream",
     "text": [
      "\n"
     ]
    }
   ],
   "source": [
    "from pymc3 import find_MAP\n",
    "\n",
    "map_estimate = find_MAP(model=radioactive_model)\n",
    "\n",
    "print(map_estimate)"
   ]
  },
  {
   "cell_type": "code",
   "execution_count": null,
   "metadata": {
    "collapsed": true
   },
   "outputs": [],
   "source": []
  }
 ],
 "metadata": {
  "kernelspec": {
   "display_name": "Python 2",
   "language": "python",
   "name": "python2"
  },
  "language_info": {
   "codemirror_mode": {
    "name": "ipython",
    "version": 2
   },
   "file_extension": ".py",
   "mimetype": "text/x-python",
   "name": "python",
   "nbconvert_exporter": "python",
   "pygments_lexer": "ipython2",
   "version": "2.7.13"
  }
 },
 "nbformat": 4,
 "nbformat_minor": 2
}
