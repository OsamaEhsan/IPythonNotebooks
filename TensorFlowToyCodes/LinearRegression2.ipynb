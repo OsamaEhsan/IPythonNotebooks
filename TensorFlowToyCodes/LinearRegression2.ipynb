{
 "cells": [
  {
   "cell_type": "code",
   "execution_count": 1,
   "metadata": {
    "collapsed": false
   },
   "outputs": [
    {
     "name": "stderr",
     "output_type": "stream",
     "text": [
      "/Users/stephenhky/anaconda/lib/python2.7/site-packages/h5py/__init__.py:34: FutureWarning: Conversion of the second argument of issubdtype from `float` to `np.floating` is deprecated. In future, it will be treated as `np.float64 == np.dtype(float).type`.\n",
      "  from ._conv import register_converters as _register_converters\n"
     ]
    }
   ],
   "source": [
    "import numpy as np\n",
    "import tensorflow as tf"
   ]
  },
  {
   "cell_type": "code",
   "execution_count": 94,
   "metadata": {
    "collapsed": false
   },
   "outputs": [],
   "source": [
    "x = np.random.uniform(low=-10.0, high=10.0, size=100).reshape((50, 2))\n",
    "y = np.matmul(x, np.array([[-1.2], [1.5]])) + 4.3 + np.random.normal(scale=0.5, size=50).reshape((50, 1))"
   ]
  },
  {
   "cell_type": "code",
   "execution_count": 83,
   "metadata": {
    "collapsed": true
   },
   "outputs": [],
   "source": [
    "X = tf.constant(x, dtype='float', name='X')\n",
    "Y = tf.constant(y, dtype='float', name='Y')"
   ]
  },
  {
   "cell_type": "code",
   "execution_count": 84,
   "metadata": {
    "collapsed": true
   },
   "outputs": [],
   "source": [
    "nbtrain = X.shape[0]\n",
    "nbfeatures = X.shape[1]"
   ]
  },
  {
   "cell_type": "code",
   "execution_count": 85,
   "metadata": {
    "collapsed": false
   },
   "outputs": [
    {
     "data": {
      "text/plain": [
       "Dimension(50)"
      ]
     },
     "execution_count": 85,
     "metadata": {},
     "output_type": "execute_result"
    }
   ],
   "source": [
    "nbtrain"
   ]
  },
  {
   "cell_type": "code",
   "execution_count": 86,
   "metadata": {
    "collapsed": false
   },
   "outputs": [],
   "source": [
    "theta = tf.Variable(np.random.uniform(size=nbfeatures), name='theta', dtype='float')"
   ]
  },
  {
   "cell_type": "code",
   "execution_count": 87,
   "metadata": {
    "collapsed": true
   },
   "outputs": [],
   "source": [
    "b = tf.Variable(np.random.uniform(), name='b', dtype='float')"
   ]
  },
  {
   "cell_type": "code",
   "execution_count": 88,
   "metadata": {
    "collapsed": false
   },
   "outputs": [],
   "source": [
    "pred_Y = tf.multiply(theta, X) + b"
   ]
  },
  {
   "cell_type": "code",
   "execution_count": 89,
   "metadata": {
    "collapsed": false
   },
   "outputs": [],
   "source": [
    "cost = tf.reduce_sum(tf.pow(pred_Y - Y, 2)) / nbtrain.value"
   ]
  },
  {
   "cell_type": "code",
   "execution_count": 90,
   "metadata": {
    "collapsed": true
   },
   "outputs": [],
   "source": [
    "initializer = tf.global_variables_initializer()"
   ]
  },
  {
   "cell_type": "code",
   "execution_count": 91,
   "metadata": {
    "collapsed": true
   },
   "outputs": [],
   "source": [
    "optimizer = tf.train.GradientDescentOptimizer(0.01).minimize(cost)"
   ]
  },
  {
   "cell_type": "code",
   "execution_count": 92,
   "metadata": {
    "collapsed": false
   },
   "outputs": [
    {
     "name": "stdout",
     "output_type": "stream",
     "text": [
      "('Epoch:', '0050', 'cost=', '128.160949707', 'theta=', array([-1.5136356,  1.718655 ], dtype=float32), 'b=', 3.5987265)\n",
      "('Epoch:', '0100', 'cost=', '127.671806335', 'theta=', array([-1.5208089,  1.7164888], dtype=float32), 'b=', 4.033105)\n",
      "('Epoch:', '0150', 'cost=', '127.663398743', 'theta=', array([-1.5217496,  1.7162046], dtype=float32), 'b=', 4.090077)\n",
      "('Epoch:', '0200', 'cost=', '127.663246155', 'theta=', array([-1.5218731,  1.7161674], dtype=float32), 'b=', 4.097548)\n",
      "('Epoch:', '0250', 'cost=', '127.663246155', 'theta=', array([-1.5218892,  1.7161626], dtype=float32), 'b=', 4.098529)\n",
      "('Epoch:', '0300', 'cost=', '127.663261414', 'theta=', array([-1.5218914,  1.716162 ], dtype=float32), 'b=', 4.098657)\n",
      "('Epoch:', '0350', 'cost=', '127.663246155', 'theta=', array([-1.5218916,  1.7161618], dtype=float32), 'b=', 4.098671)\n",
      "('Epoch:', '0400', 'cost=', '127.663246155', 'theta=', array([-1.5218916,  1.7161618], dtype=float32), 'b=', 4.098671)\n",
      "('Epoch:', '0450', 'cost=', '127.663246155', 'theta=', array([-1.5218916,  1.7161618], dtype=float32), 'b=', 4.098671)\n",
      "('Epoch:', '0500', 'cost=', '127.663246155', 'theta=', array([-1.5218916,  1.7161618], dtype=float32), 'b=', 4.098671)\n",
      "('Epoch:', '0550', 'cost=', '127.663246155', 'theta=', array([-1.5218916,  1.7161618], dtype=float32), 'b=', 4.098671)\n",
      "('Epoch:', '0600', 'cost=', '127.663246155', 'theta=', array([-1.5218916,  1.7161618], dtype=float32), 'b=', 4.098671)\n",
      "('Epoch:', '0650', 'cost=', '127.663246155', 'theta=', array([-1.5218916,  1.7161618], dtype=float32), 'b=', 4.098671)\n",
      "('Epoch:', '0700', 'cost=', '127.663246155', 'theta=', array([-1.5218916,  1.7161618], dtype=float32), 'b=', 4.098671)\n",
      "('Epoch:', '0750', 'cost=', '127.663246155', 'theta=', array([-1.5218916,  1.7161618], dtype=float32), 'b=', 4.098671)\n",
      "('Epoch:', '0800', 'cost=', '127.663246155', 'theta=', array([-1.5218916,  1.7161618], dtype=float32), 'b=', 4.098671)\n",
      "('Epoch:', '0850', 'cost=', '127.663246155', 'theta=', array([-1.5218916,  1.7161618], dtype=float32), 'b=', 4.098671)\n",
      "('Epoch:', '0900', 'cost=', '127.663246155', 'theta=', array([-1.5218916,  1.7161618], dtype=float32), 'b=', 4.098671)\n",
      "('Epoch:', '0950', 'cost=', '127.663246155', 'theta=', array([-1.5218916,  1.7161618], dtype=float32), 'b=', 4.098671)\n",
      "('Epoch:', '1000', 'cost=', '127.663246155', 'theta=', array([-1.5218916,  1.7161618], dtype=float32), 'b=', 4.098671)\n",
      "Optimization Finished!\n",
      "('Training cost=', 127.663246, 'theta=', array([-1.5218916,  1.7161618], dtype=float32), 'b=', 4.098671, '\\n')\n"
     ]
    }
   ],
   "source": [
    "display_step = 50\n",
    "with tf.Session() as sess:\n",
    "    sess.run(initializer)\n",
    "\n",
    "    # Fit all training data\n",
    "    for epoch in range(1000):\n",
    "        sess.run(optimizer)\n",
    "\n",
    "        # Display logs per epoch step\n",
    "        if (epoch+1) % display_step == 0:\n",
    "            c = sess.run(cost)\n",
    "            print(\"Epoch:\", '%04d' % (epoch+1), \"cost=\", \"{:.9f}\".format(c), \\\n",
    "                  \"theta=\", sess.run(theta), \"b=\", sess.run(b))\n",
    "\n",
    "    print(\"Optimization Finished!\")\n",
    "    training_cost = sess.run(cost)\n",
    "    print(\"Training cost=\", training_cost, \"theta=\", sess.run(theta), \"b=\", sess.run(b), '\\n')"
   ]
  },
  {
   "cell_type": "code",
   "execution_count": 102,
   "metadata": {
    "collapsed": true
   },
   "outputs": [],
   "source": [
    "def fit_linear_regression(trainX, trainY,\n",
    "                          learning_rate=0.01,\n",
    "                          ridge_alpha=0.0,\n",
    "                          lasso_alpha=0.0,\n",
    "                          max_iter=1000,\n",
    "                          display_step=50,\n",
    "                          converged_tol=1e-8,\n",
    "                          to_print=False):\n",
    "    # check dimensions\n",
    "    assert trainX.shape[0] == trainY.shape[0]   # number of training data the same\n",
    "\n",
    "    # placeholder\n",
    "    X = tf.constant(trainX, dtype='float', name='X')\n",
    "    Y = tf.constant(trainY, dtype='float', name='Y')\n",
    "\n",
    "    # Dimension placeholder\n",
    "    nbtrain = X.shape[0]\n",
    "    nbfeatures = X.shape[1]\n",
    "\n",
    "    # fitting parameters\n",
    "    theta = tf.Variable(np.random.uniform(size=nbfeatures), name='theta', dtype='float')\n",
    "    b = tf.Variable(np.random.uniform(), name='b', dtype='float')\n",
    "\n",
    "    # fitting function\n",
    "    pred_Y = tf.multiply(theta, X) + b\n",
    "\n",
    "    # cost function\n",
    "    cost = tf.reduce_sum(tf.square(pred_Y - Y)) / nbtrain.value \\\n",
    "                + ridge_alpha * (tf.reduce_sum(tf.square(theta)) + tf.square(b)) \\\n",
    "                + lasso_alpha * (tf.reduce_sum(tf.abs(theta)) + tf.abs(b))\n",
    "\n",
    "    # training the machine\n",
    "    optimizer = tf.train.GradientDescentOptimizer(learning_rate).minimize(cost)\n",
    "    initializer = tf.global_variables_initializer()\n",
    "    with tf.Session() as sess:\n",
    "        sess.run(initializer)\n",
    "\n",
    "        old_cost = sess.run(cost)\n",
    "\n",
    "        # Fit all training data\n",
    "        for epoch in range(max_iter):\n",
    "            sess.run(optimizer)\n",
    "\n",
    "            if to_print:\n",
    "                # Display logs per epoch step\n",
    "                if (epoch + 1) % display_step == 0:\n",
    "                    c = sess.run(cost)\n",
    "                    print(\"Epoch:\", '%04d' % (epoch + 1), \"cost=\", \"{:.9f}\".format(c), \\\n",
    "                          \"theta=\", sess.run(theta), \"b=\", sess.run(b))\n",
    "\n",
    "            if converged_tol is not None:\n",
    "                new_cost = sess.run(cost)\n",
    "                if abs(new_cost - old_cost) < converged_tol:\n",
    "                    break\n",
    "                else:\n",
    "                    old_cost = new_cost\n",
    "\n",
    "        if to_print:\n",
    "            print(\"Optimization Finished!\")\n",
    "\n",
    "        # extract value\n",
    "        training_cost = sess.run(cost)\n",
    "        trained_theta = sess.run(theta)\n",
    "        trained_b = sess.run(b)\n",
    "\n",
    "    return {'theta': trained_theta, 'b': trained_b, 'cost': training_cost, 'epoch': epoch,\n",
    "            'nbfeatures': nbfeatures.value, 'nbtrain': nbtrain.value}"
   ]
  },
  {
   "cell_type": "code",
   "execution_count": 106,
   "metadata": {
    "collapsed": false
   },
   "outputs": [
    {
     "data": {
      "text/plain": [
       "{'b': 3.6136096,\n",
       " 'cost': 141.52963,\n",
       " 'epoch': 115,\n",
       " 'theta': array([-1.2809862,  1.5610074], dtype=float32)}"
      ]
     },
     "execution_count": 106,
     "metadata": {},
     "output_type": "execute_result"
    }
   ],
   "source": [
    "fit_linear_regression(x, y, lasso_alpha=1.0, ridge_alpha=0.5)"
   ]
  },
  {
   "cell_type": "code",
   "execution_count": 98,
   "metadata": {
    "collapsed": false
   },
   "outputs": [
    {
     "data": {
      "text/plain": [
       "-0.010787964000002148"
      ]
     },
     "execution_count": 98,
     "metadata": {},
     "output_type": "execute_result"
    }
   ],
   "source": [
    "123.766677856-123.777465820"
   ]
  },
  {
   "cell_type": "code",
   "execution_count": null,
   "metadata": {
    "collapsed": true
   },
   "outputs": [],
   "source": []
  }
 ],
 "metadata": {
  "kernelspec": {
   "display_name": "Python 2",
   "language": "python",
   "name": "python2"
  },
  "language_info": {
   "codemirror_mode": {
    "name": "ipython",
    "version": 2
   },
   "file_extension": ".py",
   "mimetype": "text/x-python",
   "name": "python",
   "nbconvert_exporter": "python",
   "pygments_lexer": "ipython2",
   "version": "2.7.13"
  }
 },
 "nbformat": 4,
 "nbformat_minor": 2
}
